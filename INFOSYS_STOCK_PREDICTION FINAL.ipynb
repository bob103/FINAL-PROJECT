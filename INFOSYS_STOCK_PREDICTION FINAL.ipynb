{
  "nbformat": 4,
  "nbformat_minor": 0,
  "metadata": {
    "kernelspec": {
      "display_name": "Python 3",
      "language": "python",
      "name": "python3"
    },
    "language_info": {
      "codemirror_mode": {
        "name": "ipython",
        "version": 3
      },
      "file_extension": ".py",
      "mimetype": "text/x-python",
      "name": "python",
      "nbconvert_exporter": "python",
      "pygments_lexer": "ipython3",
      "version": "3.7.3"
    },
    "colab": {
      "name": "INFOSYS_STOCK_PREDICTION.ipynb",
      "provenance": [],
      "collapsed_sections": [],
      "toc_visible": true
    }
  },
  "cells": [
    {
      "cell_type": "markdown",
      "metadata": {
        "id": "ARN5bHNVl1Vg",
        "colab_type": "text"
      },
      "source": [
        "# INFOSYS STOCK PREDICTION\n",
        "BOBBY RAJKHOWA (170710007016)\n"
      ]
    },
    {
      "cell_type": "code",
      "metadata": {
        "id": "ioVhW5Dpl1Vk",
        "colab_type": "code",
        "colab": {}
      },
      "source": [
        "#importing required libraries\n",
        "import numpy as np\n",
        "import matplotlib.pyplot as plt\n",
        "import pandas as pd\n",
        "from sklearn.preprocessing import MinMaxScaler"
      ],
      "execution_count": 2,
      "outputs": []
    },
    {
      "cell_type": "markdown",
      "metadata": {
        "id": "pV2D-_xSl1V0",
        "colab_type": "text"
      },
      "source": [
        "# Visualising"
      ]
    },
    {
      "cell_type": "code",
      "metadata": {
        "id": "MlJAkLurl1V4",
        "colab_type": "code",
        "colab": {
          "base_uri": "https://localhost:8080/",
          "height": 350
        },
        "outputId": "b66013af-9831-4623-c358-e94a5b425686"
      },
      "source": [
        "#reading the data from \"INFY\" file\n",
        "data = pd.read_csv('INFY.csv')\n",
        "print('From Top\\n')\n",
        "data.head()"
      ],
      "execution_count": 3,
      "outputs": [
        {
          "output_type": "stream",
          "text": [
            "From Top\n",
            "\n"
          ],
          "name": "stdout"
        },
        {
          "output_type": "execute_result",
          "data": {
            "text/html": [
              "<div>\n",
              "<style scoped>\n",
              "    .dataframe tbody tr th:only-of-type {\n",
              "        vertical-align: middle;\n",
              "    }\n",
              "\n",
              "    .dataframe tbody tr th {\n",
              "        vertical-align: top;\n",
              "    }\n",
              "\n",
              "    .dataframe thead th {\n",
              "        text-align: right;\n",
              "    }\n",
              "</style>\n",
              "<table border=\"1\" class=\"dataframe\">\n",
              "  <thead>\n",
              "    <tr style=\"text-align: right;\">\n",
              "      <th></th>\n",
              "      <th>Date</th>\n",
              "      <th>Symbol</th>\n",
              "      <th>Series</th>\n",
              "      <th>Prev Close</th>\n",
              "      <th>Open</th>\n",
              "      <th>High</th>\n",
              "      <th>Low</th>\n",
              "      <th>Last</th>\n",
              "      <th>Close</th>\n",
              "      <th>VWAP</th>\n",
              "      <th>Volume</th>\n",
              "      <th>Turnover</th>\n",
              "      <th>Trades</th>\n",
              "      <th>Deliverable Volume</th>\n",
              "      <th>%Deliverble</th>\n",
              "    </tr>\n",
              "  </thead>\n",
              "  <tbody>\n",
              "    <tr>\n",
              "      <th>0</th>\n",
              "      <td>2000-01-03</td>\n",
              "      <td>INFOSYSTCH</td>\n",
              "      <td>EQ</td>\n",
              "      <td>14467.75</td>\n",
              "      <td>15625.00</td>\n",
              "      <td>15625.20</td>\n",
              "      <td>15625.00</td>\n",
              "      <td>15625.20</td>\n",
              "      <td>15625.20</td>\n",
              "      <td>15625.18</td>\n",
              "      <td>5137</td>\n",
              "      <td>8.026657e+12</td>\n",
              "      <td>NaN</td>\n",
              "      <td>NaN</td>\n",
              "      <td>NaN</td>\n",
              "    </tr>\n",
              "    <tr>\n",
              "      <th>1</th>\n",
              "      <td>2000-01-04</td>\n",
              "      <td>INFOSYSTCH</td>\n",
              "      <td>EQ</td>\n",
              "      <td>15625.20</td>\n",
              "      <td>16800.00</td>\n",
              "      <td>16875.25</td>\n",
              "      <td>16253.00</td>\n",
              "      <td>16875.25</td>\n",
              "      <td>16855.90</td>\n",
              "      <td>16646.38</td>\n",
              "      <td>56186</td>\n",
              "      <td>9.352937e+13</td>\n",
              "      <td>NaN</td>\n",
              "      <td>NaN</td>\n",
              "      <td>NaN</td>\n",
              "    </tr>\n",
              "    <tr>\n",
              "      <th>2</th>\n",
              "      <td>2000-01-05</td>\n",
              "      <td>INFOSYSTCH</td>\n",
              "      <td>EQ</td>\n",
              "      <td>16855.90</td>\n",
              "      <td>15701.00</td>\n",
              "      <td>16250.00</td>\n",
              "      <td>15507.45</td>\n",
              "      <td>15507.45</td>\n",
              "      <td>15507.45</td>\n",
              "      <td>15786.38</td>\n",
              "      <td>164605</td>\n",
              "      <td>2.598516e+14</td>\n",
              "      <td>NaN</td>\n",
              "      <td>NaN</td>\n",
              "      <td>NaN</td>\n",
              "    </tr>\n",
              "    <tr>\n",
              "      <th>3</th>\n",
              "      <td>2000-01-06</td>\n",
              "      <td>INFOSYSTCH</td>\n",
              "      <td>EQ</td>\n",
              "      <td>15507.45</td>\n",
              "      <td>15256.65</td>\n",
              "      <td>15300.00</td>\n",
              "      <td>14266.85</td>\n",
              "      <td>14266.85</td>\n",
              "      <td>14266.85</td>\n",
              "      <td>14462.82</td>\n",
              "      <td>81997</td>\n",
              "      <td>1.185908e+14</td>\n",
              "      <td>NaN</td>\n",
              "      <td>NaN</td>\n",
              "      <td>NaN</td>\n",
              "    </tr>\n",
              "    <tr>\n",
              "      <th>4</th>\n",
              "      <td>2000-01-07</td>\n",
              "      <td>INFOSYSTCH</td>\n",
              "      <td>EQ</td>\n",
              "      <td>14266.85</td>\n",
              "      <td>13125.50</td>\n",
              "      <td>13125.50</td>\n",
              "      <td>13125.50</td>\n",
              "      <td>13125.50</td>\n",
              "      <td>13125.50</td>\n",
              "      <td>13125.50</td>\n",
              "      <td>7589</td>\n",
              "      <td>9.960942e+12</td>\n",
              "      <td>NaN</td>\n",
              "      <td>NaN</td>\n",
              "      <td>NaN</td>\n",
              "    </tr>\n",
              "  </tbody>\n",
              "</table>\n",
              "</div>"
            ],
            "text/plain": [
              "         Date      Symbol Series  ...  Trades  Deliverable Volume  %Deliverble\n",
              "0  2000-01-03  INFOSYSTCH     EQ  ...     NaN                 NaN          NaN\n",
              "1  2000-01-04  INFOSYSTCH     EQ  ...     NaN                 NaN          NaN\n",
              "2  2000-01-05  INFOSYSTCH     EQ  ...     NaN                 NaN          NaN\n",
              "3  2000-01-06  INFOSYSTCH     EQ  ...     NaN                 NaN          NaN\n",
              "4  2000-01-07  INFOSYSTCH     EQ  ...     NaN                 NaN          NaN\n",
              "\n",
              "[5 rows x 15 columns]"
            ]
          },
          "metadata": {
            "tags": []
          },
          "execution_count": 3
        }
      ]
    },
    {
      "cell_type": "code",
      "metadata": {
        "id": "H9B3uwb_l1WL",
        "colab_type": "code",
        "colab": {
          "base_uri": "https://localhost:8080/",
          "height": 330
        },
        "outputId": "a3773b6a-eb0f-4f72-c197-44495d2ea549"
      },
      "source": [
        "print('From Bottom\\n')\n",
        "data.tail()"
      ],
      "execution_count": 4,
      "outputs": [
        {
          "output_type": "stream",
          "text": [
            "From Bottom\n",
            "\n"
          ],
          "name": "stdout"
        },
        {
          "output_type": "execute_result",
          "data": {
            "text/html": [
              "<div>\n",
              "<style scoped>\n",
              "    .dataframe tbody tr th:only-of-type {\n",
              "        vertical-align: middle;\n",
              "    }\n",
              "\n",
              "    .dataframe tbody tr th {\n",
              "        vertical-align: top;\n",
              "    }\n",
              "\n",
              "    .dataframe thead th {\n",
              "        text-align: right;\n",
              "    }\n",
              "</style>\n",
              "<table border=\"1\" class=\"dataframe\">\n",
              "  <thead>\n",
              "    <tr style=\"text-align: right;\">\n",
              "      <th></th>\n",
              "      <th>Date</th>\n",
              "      <th>Symbol</th>\n",
              "      <th>Series</th>\n",
              "      <th>Prev Close</th>\n",
              "      <th>Open</th>\n",
              "      <th>High</th>\n",
              "      <th>Low</th>\n",
              "      <th>Last</th>\n",
              "      <th>Close</th>\n",
              "      <th>VWAP</th>\n",
              "      <th>Volume</th>\n",
              "      <th>Turnover</th>\n",
              "      <th>Trades</th>\n",
              "      <th>Deliverable Volume</th>\n",
              "      <th>%Deliverble</th>\n",
              "    </tr>\n",
              "  </thead>\n",
              "  <tbody>\n",
              "    <tr>\n",
              "      <th>5136</th>\n",
              "      <td>2020-08-25</td>\n",
              "      <td>INFY</td>\n",
              "      <td>EQ</td>\n",
              "      <td>947.40</td>\n",
              "      <td>947.50</td>\n",
              "      <td>948.65</td>\n",
              "      <td>933.60</td>\n",
              "      <td>938.60</td>\n",
              "      <td>938.10</td>\n",
              "      <td>940.65</td>\n",
              "      <td>6233923</td>\n",
              "      <td>5.863928e+14</td>\n",
              "      <td>105761.0</td>\n",
              "      <td>3116528.0</td>\n",
              "      <td>0.4999</td>\n",
              "    </tr>\n",
              "    <tr>\n",
              "      <th>5137</th>\n",
              "      <td>2020-08-26</td>\n",
              "      <td>INFY</td>\n",
              "      <td>EQ</td>\n",
              "      <td>938.10</td>\n",
              "      <td>941.25</td>\n",
              "      <td>954.25</td>\n",
              "      <td>938.40</td>\n",
              "      <td>953.50</td>\n",
              "      <td>950.80</td>\n",
              "      <td>945.03</td>\n",
              "      <td>5153663</td>\n",
              "      <td>4.870350e+14</td>\n",
              "      <td>114894.0</td>\n",
              "      <td>2282594.0</td>\n",
              "      <td>0.4429</td>\n",
              "    </tr>\n",
              "    <tr>\n",
              "      <th>5138</th>\n",
              "      <td>2020-08-27</td>\n",
              "      <td>INFY</td>\n",
              "      <td>EQ</td>\n",
              "      <td>950.80</td>\n",
              "      <td>960.00</td>\n",
              "      <td>960.95</td>\n",
              "      <td>945.20</td>\n",
              "      <td>950.80</td>\n",
              "      <td>947.05</td>\n",
              "      <td>952.03</td>\n",
              "      <td>6154300</td>\n",
              "      <td>5.859108e+14</td>\n",
              "      <td>124639.0</td>\n",
              "      <td>2632139.0</td>\n",
              "      <td>0.4277</td>\n",
              "    </tr>\n",
              "    <tr>\n",
              "      <th>5139</th>\n",
              "      <td>2020-08-28</td>\n",
              "      <td>INFY</td>\n",
              "      <td>EQ</td>\n",
              "      <td>947.05</td>\n",
              "      <td>951.45</td>\n",
              "      <td>952.50</td>\n",
              "      <td>933.05</td>\n",
              "      <td>935.05</td>\n",
              "      <td>935.25</td>\n",
              "      <td>940.50</td>\n",
              "      <td>7593988</td>\n",
              "      <td>7.142135e+14</td>\n",
              "      <td>180829.0</td>\n",
              "      <td>4654594.0</td>\n",
              "      <td>0.6129</td>\n",
              "    </tr>\n",
              "    <tr>\n",
              "      <th>5140</th>\n",
              "      <td>2020-08-31</td>\n",
              "      <td>INFY</td>\n",
              "      <td>EQ</td>\n",
              "      <td>935.25</td>\n",
              "      <td>935.25</td>\n",
              "      <td>950.50</td>\n",
              "      <td>914.60</td>\n",
              "      <td>919.70</td>\n",
              "      <td>928.60</td>\n",
              "      <td>933.36</td>\n",
              "      <td>12808369</td>\n",
              "      <td>1.195481e+15</td>\n",
              "      <td>206060.0</td>\n",
              "      <td>6793301.0</td>\n",
              "      <td>0.5304</td>\n",
              "    </tr>\n",
              "  </tbody>\n",
              "</table>\n",
              "</div>"
            ],
            "text/plain": [
              "            Date Symbol Series  ...    Trades  Deliverable Volume  %Deliverble\n",
              "5136  2020-08-25   INFY     EQ  ...  105761.0           3116528.0       0.4999\n",
              "5137  2020-08-26   INFY     EQ  ...  114894.0           2282594.0       0.4429\n",
              "5138  2020-08-27   INFY     EQ  ...  124639.0           2632139.0       0.4277\n",
              "5139  2020-08-28   INFY     EQ  ...  180829.0           4654594.0       0.6129\n",
              "5140  2020-08-31   INFY     EQ  ...  206060.0           6793301.0       0.5304\n",
              "\n",
              "[5 rows x 15 columns]"
            ]
          },
          "metadata": {
            "tags": []
          },
          "execution_count": 4
        }
      ]
    },
    {
      "cell_type": "markdown",
      "metadata": {
        "id": "dlsLhX1Ll1WX",
        "colab_type": "text"
      },
      "source": [
        "# Training and Testing(75% - 25%) "
      ]
    },
    {
      "cell_type": "code",
      "metadata": {
        "id": "X3m-N611l1WZ",
        "colab_type": "code",
        "colab": {
          "base_uri": "https://localhost:8080/",
          "height": 606
        },
        "outputId": "44420fbb-a022-4f4c-91cc-d93623050319"
      },
      "source": [
        "data_training = data[data['Date']<'2015-01-01'].copy()#dividing training set\n",
        "data_testing = data[data['Date']>='2015-01-01'].copy()#dividing testing set\n",
        "\n",
        "data_training"
      ],
      "execution_count": 5,
      "outputs": [
        {
          "output_type": "execute_result",
          "data": {
            "text/html": [
              "<div>\n",
              "<style scoped>\n",
              "    .dataframe tbody tr th:only-of-type {\n",
              "        vertical-align: middle;\n",
              "    }\n",
              "\n",
              "    .dataframe tbody tr th {\n",
              "        vertical-align: top;\n",
              "    }\n",
              "\n",
              "    .dataframe thead th {\n",
              "        text-align: right;\n",
              "    }\n",
              "</style>\n",
              "<table border=\"1\" class=\"dataframe\">\n",
              "  <thead>\n",
              "    <tr style=\"text-align: right;\">\n",
              "      <th></th>\n",
              "      <th>Date</th>\n",
              "      <th>Symbol</th>\n",
              "      <th>Series</th>\n",
              "      <th>Prev Close</th>\n",
              "      <th>Open</th>\n",
              "      <th>High</th>\n",
              "      <th>Low</th>\n",
              "      <th>Last</th>\n",
              "      <th>Close</th>\n",
              "      <th>VWAP</th>\n",
              "      <th>Volume</th>\n",
              "      <th>Turnover</th>\n",
              "      <th>Trades</th>\n",
              "      <th>Deliverable Volume</th>\n",
              "      <th>%Deliverble</th>\n",
              "    </tr>\n",
              "  </thead>\n",
              "  <tbody>\n",
              "    <tr>\n",
              "      <th>0</th>\n",
              "      <td>2000-01-03</td>\n",
              "      <td>INFOSYSTCH</td>\n",
              "      <td>EQ</td>\n",
              "      <td>14467.75</td>\n",
              "      <td>15625.00</td>\n",
              "      <td>15625.20</td>\n",
              "      <td>15625.00</td>\n",
              "      <td>15625.20</td>\n",
              "      <td>15625.20</td>\n",
              "      <td>15625.18</td>\n",
              "      <td>5137</td>\n",
              "      <td>8.026657e+12</td>\n",
              "      <td>NaN</td>\n",
              "      <td>NaN</td>\n",
              "      <td>NaN</td>\n",
              "    </tr>\n",
              "    <tr>\n",
              "      <th>1</th>\n",
              "      <td>2000-01-04</td>\n",
              "      <td>INFOSYSTCH</td>\n",
              "      <td>EQ</td>\n",
              "      <td>15625.20</td>\n",
              "      <td>16800.00</td>\n",
              "      <td>16875.25</td>\n",
              "      <td>16253.00</td>\n",
              "      <td>16875.25</td>\n",
              "      <td>16855.90</td>\n",
              "      <td>16646.38</td>\n",
              "      <td>56186</td>\n",
              "      <td>9.352937e+13</td>\n",
              "      <td>NaN</td>\n",
              "      <td>NaN</td>\n",
              "      <td>NaN</td>\n",
              "    </tr>\n",
              "    <tr>\n",
              "      <th>2</th>\n",
              "      <td>2000-01-05</td>\n",
              "      <td>INFOSYSTCH</td>\n",
              "      <td>EQ</td>\n",
              "      <td>16855.90</td>\n",
              "      <td>15701.00</td>\n",
              "      <td>16250.00</td>\n",
              "      <td>15507.45</td>\n",
              "      <td>15507.45</td>\n",
              "      <td>15507.45</td>\n",
              "      <td>15786.38</td>\n",
              "      <td>164605</td>\n",
              "      <td>2.598516e+14</td>\n",
              "      <td>NaN</td>\n",
              "      <td>NaN</td>\n",
              "      <td>NaN</td>\n",
              "    </tr>\n",
              "    <tr>\n",
              "      <th>3</th>\n",
              "      <td>2000-01-06</td>\n",
              "      <td>INFOSYSTCH</td>\n",
              "      <td>EQ</td>\n",
              "      <td>15507.45</td>\n",
              "      <td>15256.65</td>\n",
              "      <td>15300.00</td>\n",
              "      <td>14266.85</td>\n",
              "      <td>14266.85</td>\n",
              "      <td>14266.85</td>\n",
              "      <td>14462.82</td>\n",
              "      <td>81997</td>\n",
              "      <td>1.185908e+14</td>\n",
              "      <td>NaN</td>\n",
              "      <td>NaN</td>\n",
              "      <td>NaN</td>\n",
              "    </tr>\n",
              "    <tr>\n",
              "      <th>4</th>\n",
              "      <td>2000-01-07</td>\n",
              "      <td>INFOSYSTCH</td>\n",
              "      <td>EQ</td>\n",
              "      <td>14266.85</td>\n",
              "      <td>13125.50</td>\n",
              "      <td>13125.50</td>\n",
              "      <td>13125.50</td>\n",
              "      <td>13125.50</td>\n",
              "      <td>13125.50</td>\n",
              "      <td>13125.50</td>\n",
              "      <td>7589</td>\n",
              "      <td>9.960942e+12</td>\n",
              "      <td>NaN</td>\n",
              "      <td>NaN</td>\n",
              "      <td>NaN</td>\n",
              "    </tr>\n",
              "    <tr>\n",
              "      <th>...</th>\n",
              "      <td>...</td>\n",
              "      <td>...</td>\n",
              "      <td>...</td>\n",
              "      <td>...</td>\n",
              "      <td>...</td>\n",
              "      <td>...</td>\n",
              "      <td>...</td>\n",
              "      <td>...</td>\n",
              "      <td>...</td>\n",
              "      <td>...</td>\n",
              "      <td>...</td>\n",
              "      <td>...</td>\n",
              "      <td>...</td>\n",
              "      <td>...</td>\n",
              "      <td>...</td>\n",
              "    </tr>\n",
              "    <tr>\n",
              "      <th>3735</th>\n",
              "      <td>2014-12-24</td>\n",
              "      <td>INFY</td>\n",
              "      <td>EQ</td>\n",
              "      <td>1971.65</td>\n",
              "      <td>1976.00</td>\n",
              "      <td>1987.00</td>\n",
              "      <td>1915.05</td>\n",
              "      <td>1932.00</td>\n",
              "      <td>1930.55</td>\n",
              "      <td>1937.83</td>\n",
              "      <td>6834872</td>\n",
              "      <td>1.324484e+15</td>\n",
              "      <td>71870.0</td>\n",
              "      <td>5381741.0</td>\n",
              "      <td>0.7874</td>\n",
              "    </tr>\n",
              "    <tr>\n",
              "      <th>3736</th>\n",
              "      <td>2014-12-26</td>\n",
              "      <td>INFY</td>\n",
              "      <td>EQ</td>\n",
              "      <td>1930.55</td>\n",
              "      <td>1945.10</td>\n",
              "      <td>1960.70</td>\n",
              "      <td>1930.95</td>\n",
              "      <td>1951.90</td>\n",
              "      <td>1952.25</td>\n",
              "      <td>1946.36</td>\n",
              "      <td>567187</td>\n",
              "      <td>1.103950e+14</td>\n",
              "      <td>28049.0</td>\n",
              "      <td>235021.0</td>\n",
              "      <td>0.4144</td>\n",
              "    </tr>\n",
              "    <tr>\n",
              "      <th>3737</th>\n",
              "      <td>2014-12-29</td>\n",
              "      <td>INFY</td>\n",
              "      <td>EQ</td>\n",
              "      <td>1952.25</td>\n",
              "      <td>1956.05</td>\n",
              "      <td>1972.80</td>\n",
              "      <td>1952.50</td>\n",
              "      <td>1960.95</td>\n",
              "      <td>1957.80</td>\n",
              "      <td>1959.90</td>\n",
              "      <td>698169</td>\n",
              "      <td>1.368341e+14</td>\n",
              "      <td>33995.0</td>\n",
              "      <td>385864.0</td>\n",
              "      <td>0.5527</td>\n",
              "    </tr>\n",
              "    <tr>\n",
              "      <th>3738</th>\n",
              "      <td>2014-12-30</td>\n",
              "      <td>INFY</td>\n",
              "      <td>EQ</td>\n",
              "      <td>1957.80</td>\n",
              "      <td>1962.25</td>\n",
              "      <td>1975.00</td>\n",
              "      <td>1956.80</td>\n",
              "      <td>1966.90</td>\n",
              "      <td>1966.35</td>\n",
              "      <td>1966.45</td>\n",
              "      <td>1160138</td>\n",
              "      <td>2.281359e+14</td>\n",
              "      <td>59166.0</td>\n",
              "      <td>827058.0</td>\n",
              "      <td>0.7129</td>\n",
              "    </tr>\n",
              "    <tr>\n",
              "      <th>3739</th>\n",
              "      <td>2014-12-31</td>\n",
              "      <td>INFY</td>\n",
              "      <td>EQ</td>\n",
              "      <td>1966.35</td>\n",
              "      <td>1955.00</td>\n",
              "      <td>1978.95</td>\n",
              "      <td>1950.00</td>\n",
              "      <td>1970.00</td>\n",
              "      <td>1972.55</td>\n",
              "      <td>1968.43</td>\n",
              "      <td>1742202</td>\n",
              "      <td>3.429407e+14</td>\n",
              "      <td>35025.0</td>\n",
              "      <td>1384141.0</td>\n",
              "      <td>0.7945</td>\n",
              "    </tr>\n",
              "  </tbody>\n",
              "</table>\n",
              "<p>3740 rows × 15 columns</p>\n",
              "</div>"
            ],
            "text/plain": [
              "            Date      Symbol Series  ...   Trades  Deliverable Volume  %Deliverble\n",
              "0     2000-01-03  INFOSYSTCH     EQ  ...      NaN                 NaN          NaN\n",
              "1     2000-01-04  INFOSYSTCH     EQ  ...      NaN                 NaN          NaN\n",
              "2     2000-01-05  INFOSYSTCH     EQ  ...      NaN                 NaN          NaN\n",
              "3     2000-01-06  INFOSYSTCH     EQ  ...      NaN                 NaN          NaN\n",
              "4     2000-01-07  INFOSYSTCH     EQ  ...      NaN                 NaN          NaN\n",
              "...          ...         ...    ...  ...      ...                 ...          ...\n",
              "3735  2014-12-24        INFY     EQ  ...  71870.0           5381741.0       0.7874\n",
              "3736  2014-12-26        INFY     EQ  ...  28049.0            235021.0       0.4144\n",
              "3737  2014-12-29        INFY     EQ  ...  33995.0            385864.0       0.5527\n",
              "3738  2014-12-30        INFY     EQ  ...  59166.0            827058.0       0.7129\n",
              "3739  2014-12-31        INFY     EQ  ...  35025.0           1384141.0       0.7945\n",
              "\n",
              "[3740 rows x 15 columns]"
            ]
          },
          "metadata": {
            "tags": []
          },
          "execution_count": 5
        }
      ]
    },
    {
      "cell_type": "code",
      "metadata": {
        "id": "lPSYimwll1Wm",
        "colab_type": "code",
        "colab": {
          "base_uri": "https://localhost:8080/",
          "height": 195
        },
        "outputId": "e58b1182-e1a2-4fdc-9251-67c86dfedfc9"
      },
      "source": [
        "training_data = data_training.drop(['Date','Symbol','Series','Prev Close','Last','VWAP','Turnover','Trades','Deliverable Volume','%Deliverble'],axis=1)\n",
        "training_data.head()                                  "
      ],
      "execution_count": 6,
      "outputs": [
        {
          "output_type": "execute_result",
          "data": {
            "text/html": [
              "<div>\n",
              "<style scoped>\n",
              "    .dataframe tbody tr th:only-of-type {\n",
              "        vertical-align: middle;\n",
              "    }\n",
              "\n",
              "    .dataframe tbody tr th {\n",
              "        vertical-align: top;\n",
              "    }\n",
              "\n",
              "    .dataframe thead th {\n",
              "        text-align: right;\n",
              "    }\n",
              "</style>\n",
              "<table border=\"1\" class=\"dataframe\">\n",
              "  <thead>\n",
              "    <tr style=\"text-align: right;\">\n",
              "      <th></th>\n",
              "      <th>Open</th>\n",
              "      <th>High</th>\n",
              "      <th>Low</th>\n",
              "      <th>Close</th>\n",
              "      <th>Volume</th>\n",
              "    </tr>\n",
              "  </thead>\n",
              "  <tbody>\n",
              "    <tr>\n",
              "      <th>0</th>\n",
              "      <td>15625.00</td>\n",
              "      <td>15625.20</td>\n",
              "      <td>15625.00</td>\n",
              "      <td>15625.20</td>\n",
              "      <td>5137</td>\n",
              "    </tr>\n",
              "    <tr>\n",
              "      <th>1</th>\n",
              "      <td>16800.00</td>\n",
              "      <td>16875.25</td>\n",
              "      <td>16253.00</td>\n",
              "      <td>16855.90</td>\n",
              "      <td>56186</td>\n",
              "    </tr>\n",
              "    <tr>\n",
              "      <th>2</th>\n",
              "      <td>15701.00</td>\n",
              "      <td>16250.00</td>\n",
              "      <td>15507.45</td>\n",
              "      <td>15507.45</td>\n",
              "      <td>164605</td>\n",
              "    </tr>\n",
              "    <tr>\n",
              "      <th>3</th>\n",
              "      <td>15256.65</td>\n",
              "      <td>15300.00</td>\n",
              "      <td>14266.85</td>\n",
              "      <td>14266.85</td>\n",
              "      <td>81997</td>\n",
              "    </tr>\n",
              "    <tr>\n",
              "      <th>4</th>\n",
              "      <td>13125.50</td>\n",
              "      <td>13125.50</td>\n",
              "      <td>13125.50</td>\n",
              "      <td>13125.50</td>\n",
              "      <td>7589</td>\n",
              "    </tr>\n",
              "  </tbody>\n",
              "</table>\n",
              "</div>"
            ],
            "text/plain": [
              "       Open      High       Low     Close  Volume\n",
              "0  15625.00  15625.20  15625.00  15625.20    5137\n",
              "1  16800.00  16875.25  16253.00  16855.90   56186\n",
              "2  15701.00  16250.00  15507.45  15507.45  164605\n",
              "3  15256.65  15300.00  14266.85  14266.85   81997\n",
              "4  13125.50  13125.50  13125.50  13125.50    7589"
            ]
          },
          "metadata": {
            "tags": []
          },
          "execution_count": 6
        }
      ]
    },
    {
      "cell_type": "code",
      "metadata": {
        "id": "2x4QTyBPl1Wy",
        "colab_type": "code",
        "colab": {
          "base_uri": "https://localhost:8080/",
          "height": 235
        },
        "outputId": "24dd2439-8865-4a67-e897-9e13f4870416"
      },
      "source": [
        "Scaler = MinMaxScaler()#scaling the values\n",
        "training_data = Scaler.fit_transform(training_data)\n",
        "training_data"
      ],
      "execution_count": 7,
      "outputs": [
        {
          "output_type": "execute_result",
          "data": {
            "text/plain": [
              "array([[9.25144932e-01, 9.20660208e-01, 9.58719516e-01, 9.21878174e-01,\n",
              "        4.43997497e-05],\n",
              "       [1.00000000e+00, 1.00000000e+00, 1.00000000e+00, 1.00000000e+00,\n",
              "        1.27222360e-03],\n",
              "       [9.29986622e-01, 9.60315823e-01, 9.50992572e-01, 9.14403692e-01,\n",
              "        3.87990315e-03],\n",
              "       ...,\n",
              "       [5.43447793e-02, 5.41520026e-02, 5.99815947e-02, 5.43050477e-02,\n",
              "        1.67131144e-02],\n",
              "       [5.47397592e-02, 5.42916351e-02, 6.02642477e-02, 5.48477808e-02,\n",
              "        2.78243322e-02],\n",
              "       [5.42778875e-02, 5.45423388e-02, 5.98172616e-02, 5.52413417e-02,\n",
              "        4.18240591e-02]])"
            ]
          },
          "metadata": {
            "tags": []
          },
          "execution_count": 7
        }
      ]
    },
    {
      "cell_type": "code",
      "metadata": {
        "id": "h6bE0jLQl1W-",
        "colab_type": "code",
        "colab": {
          "base_uri": "https://localhost:8080/",
          "height": 34
        },
        "outputId": "b6b3216d-a7bd-44bd-d58c-38314c417cc0"
      },
      "source": [
        "x_train = []\n",
        "y_train = []\n",
        "training_data.shape[0]"
      ],
      "execution_count": 8,
      "outputs": [
        {
          "output_type": "execute_result",
          "data": {
            "text/plain": [
              "3740"
            ]
          },
          "metadata": {
            "tags": []
          },
          "execution_count": 8
        }
      ]
    },
    {
      "cell_type": "code",
      "metadata": {
        "id": "mXVIFe0Jl1XM",
        "colab_type": "code",
        "colab": {}
      },
      "source": [
        "for i in range(30,training_data.shape[0]):\n",
        "    x_train.append(training_data[i-30:i])\n",
        "    y_train.append(training_data[i,0])"
      ],
      "execution_count": 9,
      "outputs": []
    },
    {
      "cell_type": "code",
      "metadata": {
        "id": "QveAkss0l1XW",
        "colab_type": "code",
        "colab": {
          "base_uri": "https://localhost:8080/",
          "height": 34
        },
        "outputId": "cf039b22-8516-4741-b057-03017d06f8b6"
      },
      "source": [
        "x_train,y_train = np.array(x_train),np.array(y_train)\n",
        "x_train.shape"
      ],
      "execution_count": 10,
      "outputs": [
        {
          "output_type": "execute_result",
          "data": {
            "text/plain": [
              "(3710, 30, 5)"
            ]
          },
          "metadata": {
            "tags": []
          },
          "execution_count": 10
        }
      ]
    },
    {
      "cell_type": "markdown",
      "metadata": {
        "id": "I81z2uszl1Xj",
        "colab_type": "text"
      },
      "source": [
        "# Building LSTM"
      ]
    },
    {
      "cell_type": "code",
      "metadata": {
        "id": "MxdeNvUWl1Xm",
        "colab_type": "code",
        "colab": {}
      },
      "source": [
        "from tensorflow.keras import Sequential\n",
        "from tensorflow.keras.layers import Dense,LSTM, Dropout #importing layers"
      ],
      "execution_count": 11,
      "outputs": []
    },
    {
      "cell_type": "code",
      "metadata": {
        "id": "s79P8SBbl1Xz",
        "colab_type": "code",
        "colab": {
          "base_uri": "https://localhost:8080/",
          "height": 454
        },
        "outputId": "b87ba17a-dac8-44bb-f4cb-edd228958b16"
      },
      "source": [
        "regressior = Sequential()\n",
        "\n",
        "regressior.add(LSTM(units=60,activation='relu',return_sequences = True, input_shape=(x_train.shape[1],5)))\n",
        "regressior.add(Dropout(0.05))\n",
        "\n",
        "regressior.add(LSTM(units=60,activation='relu',return_sequences = True))\n",
        "regressior.add(Dropout(0.05))\n",
        "\n",
        "regressior.add(LSTM(units=80,activation='relu',return_sequences = True))\n",
        "regressior.add(Dropout(0.05))\n",
        "\n",
        "regressior.add(LSTM(units=120,activation='relu'))\n",
        "regressior.add(Dropout(0.05))\n",
        "\n",
        "regressior.add(Dense(units=1))\n",
        "\n",
        "regressior.summary()"
      ],
      "execution_count": 12,
      "outputs": [
        {
          "output_type": "stream",
          "text": [
            "Model: \"sequential\"\n",
            "_________________________________________________________________\n",
            "Layer (type)                 Output Shape              Param #   \n",
            "=================================================================\n",
            "lstm (LSTM)                  (None, 30, 60)            15840     \n",
            "_________________________________________________________________\n",
            "dropout (Dropout)            (None, 30, 60)            0         \n",
            "_________________________________________________________________\n",
            "lstm_1 (LSTM)                (None, 30, 60)            29040     \n",
            "_________________________________________________________________\n",
            "dropout_1 (Dropout)          (None, 30, 60)            0         \n",
            "_________________________________________________________________\n",
            "lstm_2 (LSTM)                (None, 30, 80)            45120     \n",
            "_________________________________________________________________\n",
            "dropout_2 (Dropout)          (None, 30, 80)            0         \n",
            "_________________________________________________________________\n",
            "lstm_3 (LSTM)                (None, 120)               96480     \n",
            "_________________________________________________________________\n",
            "dropout_3 (Dropout)          (None, 120)               0         \n",
            "_________________________________________________________________\n",
            "dense (Dense)                (None, 1)                 121       \n",
            "=================================================================\n",
            "Total params: 186,601\n",
            "Trainable params: 186,601\n",
            "Non-trainable params: 0\n",
            "_________________________________________________________________\n"
          ],
          "name": "stdout"
        }
      ]
    },
    {
      "cell_type": "markdown",
      "metadata": {
        "id": "GurkjNW1l1YD",
        "colab_type": "text"
      },
      "source": [
        "# Model is ready"
      ]
    },
    {
      "cell_type": "code",
      "metadata": {
        "id": "zHdmdNXsl1YF",
        "colab_type": "code",
        "colab": {
          "base_uri": "https://localhost:8080/",
          "height": 1000
        },
        "outputId": "a443676a-99de-4977-c2e8-aeb15aac94be"
      },
      "source": [
        "regressior.compile(optimizer='adam',loss='mean_squared_error')\n",
        "regressior.fit(x_train,y_train,epochs=50,batch_size=32)"
      ],
      "execution_count": 13,
      "outputs": [
        {
          "output_type": "stream",
          "text": [
            "Epoch 1/50\n",
            "116/116 [==============================] - 9s 79ms/step - loss: 0.0027\n",
            "Epoch 2/50\n",
            "116/116 [==============================] - 9s 77ms/step - loss: 9.9080e-04\n",
            "Epoch 3/50\n",
            "116/116 [==============================] - 9s 77ms/step - loss: 7.3758e-04\n",
            "Epoch 4/50\n",
            "116/116 [==============================] - 9s 77ms/step - loss: 6.6421e-04\n",
            "Epoch 5/50\n",
            "116/116 [==============================] - 9s 77ms/step - loss: 5.8441e-04\n",
            "Epoch 6/50\n",
            "116/116 [==============================] - 9s 78ms/step - loss: 6.1177e-04\n",
            "Epoch 7/50\n",
            "116/116 [==============================] - 9s 77ms/step - loss: 4.9656e-04\n",
            "Epoch 8/50\n",
            "116/116 [==============================] - 9s 76ms/step - loss: 5.0902e-04\n",
            "Epoch 9/50\n",
            "116/116 [==============================] - 9s 77ms/step - loss: 3.9324e-04\n",
            "Epoch 10/50\n",
            "116/116 [==============================] - 9s 76ms/step - loss: 4.3211e-04\n",
            "Epoch 11/50\n",
            "116/116 [==============================] - 9s 77ms/step - loss: 3.5702e-04\n",
            "Epoch 12/50\n",
            "116/116 [==============================] - 9s 79ms/step - loss: 3.5177e-04\n",
            "Epoch 13/50\n",
            "116/116 [==============================] - 9s 80ms/step - loss: 2.8694e-04\n",
            "Epoch 14/50\n",
            "116/116 [==============================] - 9s 81ms/step - loss: 2.6871e-04\n",
            "Epoch 15/50\n",
            "116/116 [==============================] - 9s 81ms/step - loss: 2.7128e-04\n",
            "Epoch 16/50\n",
            "116/116 [==============================] - 9s 77ms/step - loss: 2.3447e-04\n",
            "Epoch 17/50\n",
            "116/116 [==============================] - 10s 83ms/step - loss: 2.1931e-04\n",
            "Epoch 18/50\n",
            "116/116 [==============================] - 10s 85ms/step - loss: 2.4973e-04\n",
            "Epoch 19/50\n",
            "116/116 [==============================] - 10s 83ms/step - loss: 2.7666e-04\n",
            "Epoch 20/50\n",
            "116/116 [==============================] - 11s 93ms/step - loss: 2.3494e-04\n",
            "Epoch 21/50\n",
            "116/116 [==============================] - 10s 87ms/step - loss: 2.4630e-04\n",
            "Epoch 22/50\n",
            "116/116 [==============================] - 10s 85ms/step - loss: 2.5755e-04\n",
            "Epoch 23/50\n",
            "116/116 [==============================] - 9s 81ms/step - loss: 2.0442e-04\n",
            "Epoch 24/50\n",
            "116/116 [==============================] - 9s 79ms/step - loss: 1.8037e-04\n",
            "Epoch 25/50\n",
            "116/116 [==============================] - 10s 86ms/step - loss: 1.9977e-04\n",
            "Epoch 26/50\n",
            "116/116 [==============================] - 9s 79ms/step - loss: 2.2529e-04\n",
            "Epoch 27/50\n",
            "116/116 [==============================] - 9s 81ms/step - loss: 2.0703e-04\n",
            "Epoch 28/50\n",
            "116/116 [==============================] - 9s 80ms/step - loss: 2.0233e-04\n",
            "Epoch 29/50\n",
            "116/116 [==============================] - 9s 78ms/step - loss: 1.9023e-04\n",
            "Epoch 30/50\n",
            "116/116 [==============================] - 9s 77ms/step - loss: 1.6120e-04\n",
            "Epoch 31/50\n",
            "116/116 [==============================] - 9s 78ms/step - loss: 1.4897e-04\n",
            "Epoch 32/50\n",
            "116/116 [==============================] - 9s 77ms/step - loss: 1.6860e-04\n",
            "Epoch 33/50\n",
            "116/116 [==============================] - 9s 78ms/step - loss: 1.7781e-04\n",
            "Epoch 34/50\n",
            "116/116 [==============================] - 9s 78ms/step - loss: 1.8131e-04\n",
            "Epoch 35/50\n",
            "116/116 [==============================] - 9s 78ms/step - loss: 1.8583e-04\n",
            "Epoch 36/50\n",
            "116/116 [==============================] - 9s 78ms/step - loss: 1.6088e-04\n",
            "Epoch 37/50\n",
            "116/116 [==============================] - 9s 78ms/step - loss: 1.6707e-04\n",
            "Epoch 38/50\n",
            "116/116 [==============================] - 9s 78ms/step - loss: 1.6408e-04\n",
            "Epoch 39/50\n",
            "116/116 [==============================] - 9s 77ms/step - loss: 1.7255e-04\n",
            "Epoch 40/50\n",
            "116/116 [==============================] - 9s 77ms/step - loss: 1.5946e-04\n",
            "Epoch 41/50\n",
            "116/116 [==============================] - 9s 78ms/step - loss: 1.6045e-04\n",
            "Epoch 42/50\n",
            "116/116 [==============================] - 9s 78ms/step - loss: 1.4545e-04\n",
            "Epoch 43/50\n",
            "116/116 [==============================] - 9s 78ms/step - loss: 1.4204e-04\n",
            "Epoch 44/50\n",
            "116/116 [==============================] - 9s 78ms/step - loss: 1.5497e-04\n",
            "Epoch 45/50\n",
            "116/116 [==============================] - 9s 78ms/step - loss: 1.7757e-04\n",
            "Epoch 46/50\n",
            "116/116 [==============================] - 9s 78ms/step - loss: 1.5383e-04\n",
            "Epoch 47/50\n",
            "116/116 [==============================] - 9s 79ms/step - loss: 1.3837e-04\n",
            "Epoch 48/50\n",
            "116/116 [==============================] - 9s 77ms/step - loss: 1.4784e-04\n",
            "Epoch 49/50\n",
            "116/116 [==============================] - 9s 77ms/step - loss: 1.4329e-04\n",
            "Epoch 50/50\n",
            "116/116 [==============================] - 9s 78ms/step - loss: 1.3850e-04\n"
          ],
          "name": "stdout"
        },
        {
          "output_type": "execute_result",
          "data": {
            "text/plain": [
              "<tensorflow.python.keras.callbacks.History at 0x7fc8c72c05f8>"
            ]
          },
          "metadata": {
            "tags": []
          },
          "execution_count": 13
        }
      ]
    },
    {
      "cell_type": "markdown",
      "metadata": {
        "id": "2VWBVsLnl1YQ",
        "colab_type": "text"
      },
      "source": [
        "# Training Done on Training set"
      ]
    },
    {
      "cell_type": "markdown",
      "metadata": {
        "id": "WaM2vfhfl1YS",
        "colab_type": "text"
      },
      "source": [
        "# Preparing Test dataset"
      ]
    },
    {
      "cell_type": "code",
      "metadata": {
        "id": "RHiil90Xl1YT",
        "colab_type": "code",
        "colab": {
          "base_uri": "https://localhost:8080/",
          "height": 195
        },
        "outputId": "10f98bf4-76c7-4950-efd0-5041c8e8149d"
      },
      "source": [
        "past_30_days = data_training.tail(30)\n",
        "df = past_30_days.append(data_testing,ignore_index=True)\n",
        "df = df.drop(['Date','Symbol','Series','Prev Close','Last','VWAP','Turnover','Trades','Deliverable Volume','%Deliverble'],axis=1)\n",
        "df.head()"
      ],
      "execution_count": 14,
      "outputs": [
        {
          "output_type": "execute_result",
          "data": {
            "text/html": [
              "<div>\n",
              "<style scoped>\n",
              "    .dataframe tbody tr th:only-of-type {\n",
              "        vertical-align: middle;\n",
              "    }\n",
              "\n",
              "    .dataframe tbody tr th {\n",
              "        vertical-align: top;\n",
              "    }\n",
              "\n",
              "    .dataframe thead th {\n",
              "        text-align: right;\n",
              "    }\n",
              "</style>\n",
              "<table border=\"1\" class=\"dataframe\">\n",
              "  <thead>\n",
              "    <tr style=\"text-align: right;\">\n",
              "      <th></th>\n",
              "      <th>Open</th>\n",
              "      <th>High</th>\n",
              "      <th>Low</th>\n",
              "      <th>Close</th>\n",
              "      <th>Volume</th>\n",
              "    </tr>\n",
              "  </thead>\n",
              "  <tbody>\n",
              "    <tr>\n",
              "      <th>0</th>\n",
              "      <td>4180.0</td>\n",
              "      <td>4189.95</td>\n",
              "      <td>4139.75</td>\n",
              "      <td>4173.35</td>\n",
              "      <td>650140</td>\n",
              "    </tr>\n",
              "    <tr>\n",
              "      <th>1</th>\n",
              "      <td>4190.0</td>\n",
              "      <td>4232.50</td>\n",
              "      <td>4183.85</td>\n",
              "      <td>4225.60</td>\n",
              "      <td>668491</td>\n",
              "    </tr>\n",
              "    <tr>\n",
              "      <th>2</th>\n",
              "      <td>4170.0</td>\n",
              "      <td>4179.00</td>\n",
              "      <td>4101.60</td>\n",
              "      <td>4146.15</td>\n",
              "      <td>1307909</td>\n",
              "    </tr>\n",
              "    <tr>\n",
              "      <th>3</th>\n",
              "      <td>4200.0</td>\n",
              "      <td>4281.65</td>\n",
              "      <td>4191.95</td>\n",
              "      <td>4275.10</td>\n",
              "      <td>1380930</td>\n",
              "    </tr>\n",
              "    <tr>\n",
              "      <th>4</th>\n",
              "      <td>4295.0</td>\n",
              "      <td>4319.95</td>\n",
              "      <td>4246.00</td>\n",
              "      <td>4303.20</td>\n",
              "      <td>1860822</td>\n",
              "    </tr>\n",
              "  </tbody>\n",
              "</table>\n",
              "</div>"
            ],
            "text/plain": [
              "     Open     High      Low    Close   Volume\n",
              "0  4180.0  4189.95  4139.75  4173.35   650140\n",
              "1  4190.0  4232.50  4183.85  4225.60   668491\n",
              "2  4170.0  4179.00  4101.60  4146.15  1307909\n",
              "3  4200.0  4281.65  4191.95  4275.10  1380930\n",
              "4  4295.0  4319.95  4246.00  4303.20  1860822"
            ]
          },
          "metadata": {
            "tags": []
          },
          "execution_count": 14
        }
      ]
    },
    {
      "cell_type": "code",
      "metadata": {
        "id": "Hp1jZSZtl1Ye",
        "colab_type": "code",
        "colab": {
          "base_uri": "https://localhost:8080/",
          "height": 134
        },
        "outputId": "042334b4-fca7-454d-afbd-b577bb982c40"
      },
      "source": [
        "inputs = Scaler.transform(df)\n",
        "inputs"
      ],
      "execution_count": 15,
      "outputs": [
        {
          "output_type": "execute_result",
          "data": {
            "text/plain": [
              "array([[ 0.19602472,  0.19487295,  0.20375666,  0.19494274,  0.01555793],\n",
              "       [ 0.19666178,  0.19757357,  0.20665549,  0.19825945,  0.0159993 ],\n",
              "       [ 0.19538765,  0.19417796,  0.20124893,  0.19321615,  0.0313785 ],\n",
              "       ...,\n",
              "       [-0.00911002, -0.0100694 , -0.00623151, -0.00985489,  0.14794326],\n",
              "       [-0.00965471, -0.01060572, -0.00703017, -0.01060393,  0.18257045],\n",
              "       [-0.01068676, -0.01073266, -0.00824295, -0.01102605,  0.30798606]])"
            ]
          },
          "metadata": {
            "tags": []
          },
          "execution_count": 15
        }
      ]
    },
    {
      "cell_type": "code",
      "metadata": {
        "id": "iNAUQ0ctl1Yp",
        "colab_type": "code",
        "colab": {
          "base_uri": "https://localhost:8080/",
          "height": 34
        },
        "outputId": "f867e7ff-a360-4a91-cf2f-72dea1c1eda6"
      },
      "source": [
        "x_test = []\n",
        "y_test = []\n",
        "\n",
        "inputs.shape[0]"
      ],
      "execution_count": 16,
      "outputs": [
        {
          "output_type": "execute_result",
          "data": {
            "text/plain": [
              "1431"
            ]
          },
          "metadata": {
            "tags": []
          },
          "execution_count": 16
        }
      ]
    },
    {
      "cell_type": "code",
      "metadata": {
        "id": "_ye213W_l1Yz",
        "colab_type": "code",
        "colab": {}
      },
      "source": [
        "for i in range(30,inputs.shape[0]):\n",
        "    x_test.append(inputs[i-30:i])\n",
        "    y_test.append(inputs[i,0])"
      ],
      "execution_count": 17,
      "outputs": []
    },
    {
      "cell_type": "code",
      "metadata": {
        "id": "7bbv72apl1ZB",
        "colab_type": "code",
        "colab": {
          "base_uri": "https://localhost:8080/",
          "height": 34
        },
        "outputId": "76fc4ee4-6780-40ab-bf6e-25ff2af32576"
      },
      "source": [
        "x_test,y_test = np.array(x_test),np.array(y_test)\n",
        "x_test.shape, y_test.shape"
      ],
      "execution_count": 18,
      "outputs": [
        {
          "output_type": "execute_result",
          "data": {
            "text/plain": [
              "((1401, 30, 5), (1401,))"
            ]
          },
          "metadata": {
            "tags": []
          },
          "execution_count": 18
        }
      ]
    },
    {
      "cell_type": "code",
      "metadata": {
        "id": "sGbq9KXvl1ZP",
        "colab_type": "code",
        "colab": {}
      },
      "source": [
        "y_pred = regressior.predict(x_test)"
      ],
      "execution_count": 19,
      "outputs": []
    },
    {
      "cell_type": "code",
      "metadata": {
        "id": "Vz14fRx0l1Zg",
        "colab_type": "code",
        "colab": {
          "base_uri": "https://localhost:8080/",
          "height": 134
        },
        "outputId": "3ed4db5f-236c-4cc8-ac6d-0059d458b26f"
      },
      "source": [
        "y_pred"
      ],
      "execution_count": 20,
      "outputs": [
        {
          "output_type": "execute_result",
          "data": {
            "text/plain": [
              "array([[ 0.05671559],\n",
              "       [ 0.05703977],\n",
              "       [ 0.05742896],\n",
              "       ...,\n",
              "       [-0.00319197],\n",
              "       [-0.00341611],\n",
              "       [-0.00365823]], dtype=float32)"
            ]
          },
          "metadata": {
            "tags": []
          },
          "execution_count": 20
        }
      ]
    },
    {
      "cell_type": "code",
      "metadata": {
        "id": "JkVplVLcl1Zt",
        "colab_type": "code",
        "colab": {
          "base_uri": "https://localhost:8080/",
          "height": 50
        },
        "outputId": "3339b2d4-7f1a-42b7-9e7f-217605e981e0"
      },
      "source": [
        "#inveres scaling\n",
        "Scaler.scale_"
      ],
      "execution_count": 21,
      "outputs": [
        {
          "output_type": "execute_result",
          "data": {
            "text/plain": [
              "array([6.37064407e-05, 6.34692951e-05, 6.57332545e-05, 6.34775543e-05,\n",
              "       2.40518687e-08])"
            ]
          },
          "metadata": {
            "tags": []
          },
          "execution_count": 21
        }
      ]
    },
    {
      "cell_type": "code",
      "metadata": {
        "id": "kLo_KtOal1Z2",
        "colab_type": "code",
        "colab": {
          "base_uri": "https://localhost:8080/",
          "height": 34
        },
        "outputId": "1a40bcc6-e099-4b7b-be8a-8e779b0306b9"
      },
      "source": [
        "scale = 1/6.37064407e-05\n",
        "scale"
      ],
      "execution_count": 22,
      "outputs": [
        {
          "output_type": "execute_result",
          "data": {
            "text/plain": [
              "15697.000005212973"
            ]
          },
          "metadata": {
            "tags": []
          },
          "execution_count": 22
        }
      ]
    },
    {
      "cell_type": "code",
      "metadata": {
        "id": "gcuO0fC3l1aE",
        "colab_type": "code",
        "colab": {}
      },
      "source": [
        "y_pred = y_pred*scale\n",
        "y_test = y_test*scale"
      ],
      "execution_count": 23,
      "outputs": []
    },
    {
      "cell_type": "markdown",
      "metadata": {
        "id": "Le4EqYj4l1aQ",
        "colab_type": "text"
      },
      "source": [
        "# Visualing the prediction with the accurate"
      ]
    },
    {
      "cell_type": "code",
      "metadata": {
        "id": "oknfZWGcl1aS",
        "colab_type": "code",
        "colab": {
          "base_uri": "https://localhost:8080/",
          "height": 350
        },
        "outputId": "5299ef2b-84cb-4ae7-a1e8-c22eb4aa88d0"
      },
      "source": [
        "plt.figure(figsize=(14,5))\n",
        "plt.plot(y_test,color='red',label='Real Infosys stock price')\n",
        "plt.plot(y_pred,color='green',label='Predicted Infosys stock price')\n",
        "plt.title('INFOSYS Stock Price Prediction')\n",
        "plt.xlabel('Time')\n",
        "plt.ylabel('INFOSYS Stock Price')\n",
        "plt.legend()\n",
        "plt.show()"
      ],
      "execution_count": 24,
      "outputs": [
        {
          "output_type": "display_data",
          "data": {
            "image/png": "[encoded data removed]",
            "text/plain": [
              "<Figure size 1008x360 with 1 Axes>"
            ]
          },
          "metadata": {
            "tags": [],
            "needs_background": "light"
          }
        }
      ]
    }
  ]
}
